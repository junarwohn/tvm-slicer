{
 "cells": [
  {
   "cell_type": "code",
   "execution_count": 1,
   "metadata": {},
   "outputs": [],
   "source": [
    "from faulthandler import disable\n",
    "from unittest import result\n",
    "from SlicingMachine import TVMSlicer\n",
    "import os\n",
    "os.environ['TF_CPP_MIN_LOG_LEVEL'] = '3' \n",
    "import tensorflow as tf\n",
    "import tvm\n",
    "import tvm.relay as relay\n",
    "from tvm.contrib import graph_executor \n",
    "import numpy as np\n",
    "import json\n",
    "import pygraphviz as pgv\n",
    "from argparse import ArgumentParser\n",
    "from tvm.relay.build_module import bind_params_by_name\n",
    "from tvm.relay.dataflow_pattern import *\n",
    "\n",
    "class UnetPreProcessCallback(DFPatternCallback):\n",
    "    # A callback class to rewrite the matched pattern to a batch_norm op.\n",
    "    def __init__(self, require_type=False):\n",
    "        super().__init__(require_type)\n",
    "        super().__init__(rewrite_once=True)\n",
    "\n",
    "        self.var2 = wildcard()\n",
    "        tuple_node = is_tuple([wildcard(), self.var2])\n",
    "        concat_node = is_op('concatenate')(tuple_node)\n",
    "        self.pattern = concat_node\n",
    "        self.match_node = []\n",
    "        self.match_node2 = []\n",
    "\n",
    "    def callback(self, pre, post, node_map):\n",
    "        var2 = node_map[self.var2][0]\n",
    "        self.match_node.append(var2)\n",
    "        self.match_node2.append(pre)\n",
    "        return pre \n",
    "        \n",
    "class UnetCallback(DFPatternCallback):\n",
    "    # A callback class to rewrite the matched pattern to a batch_norm op.\n",
    "    def __init__(self, match_node, require_type=False):\n",
    "        super().__init__(require_type)\n",
    "        super().__init__(rewrite_once=True)\n",
    "\n",
    "        self.tuple_get_item_node = is_tuple_get_item(wildcard(), 0)\n",
    "        self.pattern_1 = self.tuple_get_item_node\n",
    "\n",
    "        self.pattern = self.pattern_1 \n",
    "        self.match_node = match_node\n",
    "        self.counter = 0\n",
    "        self.tmp = []\n",
    "\n",
    "    def quant(self, node):\n",
    "        cast_to_int8 = relay.cast(\n",
    "            relay.clip(\n",
    "                relay.round(\n",
    "                    relay.multiply(node, relay.const(8.0))\n",
    "                ), \n",
    "                a_min=-127.0, a_max=127.0\n",
    "            ),\n",
    "            dtype=\"int8\"\n",
    "        )\n",
    "        result_node = relay.annotation.stop_fusion(cast_to_int8)\n",
    "        self.tmp.append(result_node)\n",
    "        return result_node\n",
    "\n",
    "    def dequant(self, node):\n",
    "        cast_to_float32 = relay.divide(\n",
    "            relay.cast(node, dtype='float32'), relay.const(8.0)\n",
    "        )\n",
    "        return cast_to_float32\n",
    "\n",
    "    def callback(self, pre, post, node_map):\n",
    "        if self.pattern_1.match(pre):\n",
    "            if pre in self.match_node:\n",
    "                # print(\"pat 1\")\n",
    "                return self.dequant(self.quant(post))\n",
    "        return post\n",
    "\n",
    "class UnetCallback2(DFPatternCallback):\n",
    "    # A callback class to rewrite the matched pattern to a batch_norm op.\n",
    "    def __init__(self, match_node, require_type=False):\n",
    "        super().__init__(require_type)\n",
    "        super().__init__(rewrite_once=True)\n",
    "\n",
    "        # self.tuple_get_item_node = is_tuple_get_item(wildcard(), 0)\n",
    "        # self.pattern_1 = self.tuple_get_item_node\n",
    "        self.var2 = wildcard()\n",
    "        tuple_node = is_tuple([wildcard(), self.var2])\n",
    "        concat_node = is_op('concatenate')(tuple_node)\n",
    "        self.pattern = concat_node\n",
    "        # self.pattern = self.pattern_1 \n",
    "        self.match_node = match_node\n",
    "        self.counter = 0\n",
    "        self.tmp = []\n",
    "\n",
    "    def quant(self, node):\n",
    "        cast_to_int8 = relay.cast(\n",
    "            relay.clip(\n",
    "                relay.round(\n",
    "                    relay.multiply(node, relay.const(8.0))\n",
    "                ), \n",
    "                a_min=-127.0, a_max=127.0\n",
    "            ),\n",
    "            dtype=\"int8\"\n",
    "        )\n",
    "        result_node = relay.annotation.stop_fusion(cast_to_int8)\n",
    "        self.tmp.append(result_node)\n",
    "        return result_node\n",
    "\n",
    "    def dequant(self, node):\n",
    "        cast_to_float32 = relay.divide(\n",
    "            relay.cast(node, dtype='float32'), relay.const(8.0)\n",
    "        )\n",
    "        return cast_to_float32\n",
    "\n",
    "    def callback(self, pre, post, node_map):\n",
    "        if self.pattern.match(pre):\n",
    "            if pre in self.match_node:\n",
    "                # print(\"pat 1\")\n",
    "                return self.dequant(self.quant(post))\n",
    "        return post\n",
    "\n",
    "\n",
    "class UnetMaxPool2dCallback(DFPatternCallback):\n",
    "    # A callback class to rewrite the matched pattern to a batch_norm op.\n",
    "    def __init__(self, require_type=False):\n",
    "        super().__init__(require_type)\n",
    "        super().__init__(rewrite_once=True)\n",
    "\n",
    "        max_pool2d_node = is_op('nn.max_pool2d')(wildcard())\n",
    "        self.pattern = max_pool2d_node\n",
    "        self.match_node = []\n",
    "\n",
    "    def callback(self, pre, post, node_map):\n",
    "        self.match_node.append(pre)\n",
    "        return post\n",
    "\n",
    "\n",
    "class UnetCallback3(DFPatternCallback):\n",
    "    # A callback class to rewrite the matched pattern to a batch_norm op.\n",
    "    def __init__(self, match_node, require_type=False):\n",
    "        super().__init__(require_type)\n",
    "        super().__init__(rewrite_once=True)\n",
    "\n",
    "        # self.tuple_get_item_node = is_tuple_get_item(wildcard(), 0)\n",
    "        # self.pattern_1 = self.tuple_get_item_node\n",
    "        max_pool2d_node = is_op('nn.max_pool2d')(wildcard())\n",
    "        self.pattern = max_pool2d_node\n",
    "        self.match_node = match_node\n",
    "        self.counter = 0\n",
    "        self.tmp = []\n",
    "\n",
    "    def quant(self, node):\n",
    "        cast_to_int8 = relay.cast(\n",
    "            relay.clip(\n",
    "                relay.round(\n",
    "                    relay.multiply(node, relay.const(8.0))\n",
    "                ), \n",
    "                a_min=-127.0, a_max=127.0\n",
    "            ),\n",
    "            dtype=\"int8\"\n",
    "        )\n",
    "        result_node = relay.annotation.stop_fusion(cast_to_int8)\n",
    "        self.tmp.append(result_node)\n",
    "        return result_node\n",
    "\n",
    "    def dequant(self, node):\n",
    "        cast_to_float32 = relay.divide(\n",
    "            relay.cast(node, dtype='float32'), relay.const(8.0)\n",
    "        )\n",
    "        return cast_to_float32\n",
    "\n",
    "    def callback(self, pre, post, node_map):\n",
    "        # print(\"match pool2d\")\n",
    "\n",
    "        if self.pattern.match(pre):\n",
    "            if pre in self.match_node:\n",
    "                # print(\"pat 1\")\n",
    "                return self.dequant(self.quant(post))\n",
    "        return post\n",
    "\n",
    "class UnetLeakyReLUCallback(DFPatternCallback):\n",
    "    # A callback class to rewrite the matched pattern to a batch_norm op.\n",
    "    def __init__(self, require_type=False):\n",
    "        super().__init__(require_type)\n",
    "        super().__init__(rewrite_once=True)\n",
    "\n",
    "        leaky_relu_node = is_op('nn.leaky_relu')(wildcard())\n",
    "        self.pattern = leaky_relu_node\n",
    "        self.match_node = []\n",
    "\n",
    "    def callback(self, pre, post, node_map):\n",
    "        self.match_node.append(pre)\n",
    "        return post\n",
    "\n",
    "\n",
    "class UnetCallback4(DFPatternCallback):\n",
    "    # A callback class to rewrite the matched pattern to a batch_norm op.\n",
    "    def __init__(self, match_node, require_type=False):\n",
    "        super().__init__(require_type)\n",
    "        super().__init__(rewrite_once=True)\n",
    "\n",
    "        # self.tuple_get_item_node = is_tuple_get_item(wildcard(), 0)\n",
    "        # self.pattern_1 = self.tuple_get_item_node\n",
    "        leaky_relu_node = is_op('nn.leaky_relu')(wildcard())\n",
    "        self.pattern = leaky_relu_node\n",
    "        self.match_node = match_node\n",
    "        self.counter = 0\n",
    "        self.tmp = []\n",
    "\n",
    "    def quant(self, node):\n",
    "        cast_to_int8 = relay.cast(\n",
    "            relay.clip(\n",
    "                relay.round(\n",
    "                    relay.multiply(node, relay.const(8.0))\n",
    "                ), \n",
    "                a_min=-127.0, a_max=127.0\n",
    "            ),\n",
    "            dtype=\"int8\"\n",
    "        )\n",
    "        result_node = relay.annotation.stop_fusion(cast_to_int8)\n",
    "        self.tmp.append(result_node)\n",
    "        return result_node\n",
    "\n",
    "    def dequant(self, node):\n",
    "        cast_to_float32 = relay.divide(\n",
    "            relay.cast(node, dtype='float32'), relay.const(8.0)\n",
    "        )\n",
    "        return cast_to_float32\n",
    "\n",
    "    def callback(self, pre, post, node_map):\n",
    "        # print(\"match leaky_relu_node\")\n",
    "\n",
    "        if self.pattern.match(pre):\n",
    "            if pre in self.match_node:\n",
    "                # print(\"pat 1\")\n",
    "                return self.dequant(self.quant(post))\n",
    "        return post\n",
    "\n",
    "class Int8Collector(DFPatternCallback):\n",
    "    # A callback class to rewrite the matched pattern to a batch_norm op.\n",
    "    def __init__(self, require_type=False):\n",
    "        super().__init__(require_type)\n",
    "        super().__init__(rewrite_once=True)\n",
    "\n",
    "        int8_cast_node = is_op('cast')(wildcard()).has_attr({'dtype': 'int8'})\n",
    "\n",
    "        self.pattern = int8_cast_node\n",
    "        self.match_node = []\n",
    "\n",
    "    def callback(self, pre, post, node_map):\n",
    "        # print(pre)\n",
    "        self.match_node.append(pre)\n",
    "        return post"
   ]
  },
  {
   "cell_type": "code",
   "execution_count": 3,
   "metadata": {},
   "outputs": [],
   "source": [
    "model_config = [2, 0, 0, 0]\n",
    "np.random.seed(0)\n",
    "img_size = 256\n",
    "input_data = np.random.normal(0,1,(1,img_size,img_size,3)).astype(np.float32)\n",
    "model_keras = tf.keras.models.load_model(\"UNet_M[{}-{}-{}-{}].h5\".format(*model_config))\n",
    "\n",
    "# tvm result\n",
    "input_data = input_data.transpose([0, 3, 1, 2])\n",
    "shape_dict = {\"input_1\": input_data.shape}\n",
    "mod, params = relay.frontend.from_keras(model_keras, shape_dict)\n",
    "target = 'cuda'\n",
    "dev = tvm.cuda()"
   ]
  },
  {
   "cell_type": "code",
   "execution_count": 4,
   "metadata": {},
   "outputs": [],
   "source": [
    "quantization_level = 2\n",
    "upc = UnetPreProcessCallback()\n",
    "out = rewrite(upc, mod['main'])\n",
    "\n",
    "if quantization_level == 0:\n",
    "    maxpool = UnetMaxPool2dCallback()\n",
    "    rewrite(maxpool, out)\n",
    "    out = relay.Function(out.params, relay.Tuple(upc.match_node + upc.match_node2 + maxpool.match_node + [out.body]), out.ret_type, out.type_params, out.attrs)\n",
    "else:\n",
    "    uc = UnetCallback(upc.match_node)\n",
    "    out = rewrite(uc, mod['main'])\n",
    "    upc = UnetPreProcessCallback()\n",
    "    rewrite(upc, out)\n",
    "    uc2 = UnetCallback2(upc.match_node2)\n",
    "    out = rewrite(uc2, out)\n",
    "    \n",
    "    if quantization_level == 1:\n",
    "        out = relay.Function(out.params, relay.Tuple(uc.tmp + [out.body]), out.ret_type, out.type_params, out.attrs)\n",
    "\n",
    "    elif quantization_level == 2:\n",
    "\n",
    "        upc = UnetMaxPool2dCallback()\n",
    "        rewrite(upc, out)\n",
    "        # print(len(upc.match_node))\n",
    "        uc2 = UnetCallback3(upc.match_node)\n",
    "        out = rewrite(uc2, out)\n",
    "\n",
    "        upc = UnetLeakyReLUCallback()\n",
    "        rewrite(upc, out)\n",
    "        # print(len(upc.match_node))\n",
    "        uc2 = UnetCallback4(upc.match_node)\n",
    "        out = rewrite(uc2, out)\n",
    "\n",
    "        int8_collector = Int8Collector()\n",
    "        rewrite(int8_collector, out)\n",
    "        kk = relay.Function(out.params, relay.Tuple(int8_collector.match_node + [out.body]), out.ret_type, out.type_params, out.attrs)\n"
   ]
  },
  {
   "cell_type": "code",
   "execution_count": 6,
   "metadata": {},
   "outputs": [
    {
     "ename": "TypeError",
     "evalue": "object of type 'Call' has no len()",
     "output_type": "error",
     "traceback": [
      "\u001b[0;31m---------------------------------------------------------------------------\u001b[0m",
      "\u001b[0;31mTypeError\u001b[0m                                 Traceback (most recent call last)",
      "\u001b[0;32m<ipython-input-6-a589fc3686a6>\u001b[0m in \u001b[0;36m<module>\u001b[0;34m\u001b[0m\n\u001b[0;32m----> 1\u001b[0;31m \u001b[0mlen\u001b[0m\u001b[0;34m(\u001b[0m\u001b[0mout\u001b[0m\u001b[0;34m.\u001b[0m\u001b[0mbody\u001b[0m\u001b[0;34m)\u001b[0m\u001b[0;34m\u001b[0m\u001b[0;34m\u001b[0m\u001b[0m\n\u001b[0m",
      "\u001b[0;31mTypeError\u001b[0m: object of type 'Call' has no len()"
     ]
    }
   ],
   "source": [
    "len(out.body)"
   ]
  },
  {
   "cell_type": "code",
   "execution_count": 8,
   "metadata": {},
   "outputs": [
    {
     "data": {
      "text/plain": [
       "30"
      ]
     },
     "execution_count": 8,
     "metadata": {},
     "output_type": "execute_result"
    }
   ],
   "source": [
    "len(int8_collector.match_node)"
   ]
  },
  {
   "cell_type": "code",
   "execution_count": 9,
   "metadata": {},
   "outputs": [
    {
     "data": {
      "text/plain": [
       "30"
      ]
     },
     "execution_count": 9,
     "metadata": {},
     "output_type": "execute_result"
    }
   ],
   "source": [
    "len(list(set(int8_collector.match_node)))"
   ]
  },
  {
   "cell_type": "code",
   "execution_count": 28,
   "metadata": {},
   "outputs": [
    {
     "data": {
      "text/plain": [
       "CallNode(Op(cast), [CallNode(Op(clip), [CallNode(Op(round), [CallNode(Op(multiply), [CallNode(Op(nn.max_pool2d), [TupleGetItemNode(CallNode(Op(nn.batch_norm), [CallNode(Op(nn.bias_add), [CallNode(Op(nn.conv2d), [CallNode(Op(divide), [CallNode(Op(cast), [CallNode(Op(annotation.stop_fusion), [CallNode(Op(cast), [CallNode(Op(clip), [CallNode(Op(round), [CallNode(Op(multiply), [CallNode(Op(nn.leaky_relu), [TupleGetItemNode(CallNode(Op(nn.batch_norm), [CallNode(Op(nn.bias_add), [CallNode(Op(nn.conv2d), [Var(input_1, ty=TensorType([1, 3, 256, 256], float32)), Var(_param_1, ty=TensorType([64, 3, 3, 3], float32))], relay.attrs.Conv2DAttrs(0x1ab98cf8), []), Var(_param_2, ty=TensorType([64], float32))], relay.attrs.BiasAddAttrs(0x20ca7328), []), Var(_param_3, ty=TensorType([64], float32)), Var(_param_4, ty=TensorType([64], float32)), Var(_param_5, ty=TensorType([64], float32)), Var(_param_6, ty=TensorType([64], float32))], relay.attrs.BatchNormAttrs(0x20825098), []), 0)], relay.attrs.LeakyReluAttrs(0x20cfa558), []), Constant(8.0)], (nullptr), [])], (nullptr), [])], relay.attrs.ClipAttrs(0x20a25978), [])], relay.attrs.CastAttrs(0x20786118), [])], (nullptr), [])], relay.attrs.CastAttrs(0x20951388), []), Constant(8.0)], (nullptr), []), Var(_param_7, ty=TensorType([64, 64, 3, 3], float32))], relay.attrs.Conv2DAttrs(0x20840398), []), Var(_param_8, ty=TensorType([64], float32))], relay.attrs.BiasAddAttrs(0x1f4ae908), []), Var(_param_9, ty=TensorType([64], float32)), Var(_param_10, ty=TensorType([64], float32)), Var(_param_11, ty=TensorType([64], float32)), Var(_param_12, ty=TensorType([64], float32))], relay.attrs.BatchNormAttrs(0x2083f8e8), []), 0)], relay.attrs.MaxPool2DAttrs(0x20d3a128), []), Constant(8.0)], (nullptr), [])], (nullptr), [])], relay.attrs.ClipAttrs(0x2071ea98), [])], relay.attrs.CastAttrs(0x207f7378), [])"
      ]
     },
     "execution_count": 28,
     "metadata": {},
     "output_type": "execute_result"
    }
   ],
   "source": [
    "int8_collector.match_node[1]"
   ]
  },
  {
   "cell_type": "code",
   "execution_count": 30,
   "metadata": {},
   "outputs": [
    {
     "data": {
      "text/plain": [
       "'free_var %input_1: Tensor[(1, 3, 256, 256), float32];\\nfree_var %v_param_1: Tensor[(64, 3, 3, 3), float32];\\n%0 = nn.conv2d(%input_1, %v_param_1, padding=[1, 1, 1, 1], channels=64, kernel_size=[3, 3]);\\nfree_var %v_param_2: Tensor[(64), float32];\\n%1 = nn.bias_add(%0, %v_param_2);\\nfree_var %v_param_3: Tensor[(64), float32];\\nfree_var %v_param_4: Tensor[(64), float32];\\nfree_var %v_param_5: Tensor[(64), float32];\\nfree_var %v_param_6: Tensor[(64), float32];\\n%2 = nn.batch_norm(%1, %v_param_3, %v_param_4, %v_param_5, %v_param_6, epsilon=0.001f);\\n%3 = %2.0;\\n%4 = nn.leaky_relu(%3, alpha=0.2f);\\n%5 = multiply(%4, 8f);\\n%6 = round(%5);\\n%7 = clip(%6, a_min=-127f, a_max=127f);\\n%8 = cast(%7, dtype=\"int8\");\\n%9 = annotation.stop_fusion(%8);\\n%10 = cast(%9, dtype=\"float32\");\\n%11 = divide(%10, 8f);\\nfree_var %v_param_7: Tensor[(64, 64, 3, 3), float32];\\n%12 = nn.conv2d(%11, %v_param_7, padding=[1, 1, 1, 1], channels=64, kernel_size=[3, 3]);\\nfree_var %v_param_8: Tensor[(64), float32];\\n%13 = nn.bias_add(%12, %v_param_8);\\nfree_var %v_param_9: Tensor[(64), float32];\\nfree_var %v_param_10: Tensor[(64), float32];\\nfree_var %v_param_11: Tensor[(64), float32];\\nfree_var %v_param_12: Tensor[(64), float32];\\n%14 = nn.batch_norm(%13, %v_param_9, %v_param_10, %v_param_11, %v_param_12, epsilon=0.001f);\\n%15 = %14.0;\\n%16 = nn.max_pool2d(%15, pool_size=[2, 2], strides=[2, 2], padding=[0, 0, 0, 0]);\\n%17 = multiply(%16, 8f);\\n%18 = round(%17);\\n%19 = clip(%18, a_min=-127f, a_max=127f);\\ncast(%19, dtype=\"int8\")'"
      ]
     },
     "execution_count": 30,
     "metadata": {},
     "output_type": "execute_result"
    }
   ],
   "source": [
    "str(int8_collector.match_node[-8])"
   ]
  },
  {
   "cell_type": "code",
   "execution_count": 32,
   "metadata": {},
   "outputs": [
    {
     "data": {
      "text/plain": [
       "tvm.relay.expr.Call"
      ]
     },
     "execution_count": 32,
     "metadata": {},
     "output_type": "execute_result"
    }
   ],
   "source": [
    "type(int8_collector.match_node[1)"
   ]
  },
  {
   "cell_type": "code",
   "execution_count": 31,
   "metadata": {},
   "outputs": [
    {
     "data": {
      "text/plain": [
       "True"
      ]
     },
     "execution_count": 31,
     "metadata": {},
     "output_type": "execute_result"
    }
   ],
   "source": [
    "str(int8_collector.match_node[1]) == str(int8_collector.match_node[-8])"
   ]
  },
  {
   "cell_type": "code",
   "execution_count": 11,
   "metadata": {},
   "outputs": [],
   "source": [
    "a = [    [\n",
    "      5, \n",
    "      0, \n",
    "      0\n",
    "    ], \n",
    "    [\n",
    "      12, \n",
    "      0, \n",
    "      0\n",
    "    ], \n",
    "    [\n",
    "      18, \n",
    "      0, \n",
    "      0\n",
    "    ], \n",
    "    [\n",
    "      24, \n",
    "      0, \n",
    "      0\n",
    "    ], \n",
    "    [\n",
    "      26, \n",
    "      0, \n",
    "      0\n",
    "    ], \n",
    "    [\n",
    "      32, \n",
    "      0, \n",
    "      0\n",
    "    ], \n",
    "    [\n",
    "      38, \n",
    "      0, \n",
    "      0\n",
    "    ], \n",
    "    [\n",
    "      40, \n",
    "      0, \n",
    "      0\n",
    "    ], \n",
    "    [\n",
    "      46, \n",
    "      0, \n",
    "      0\n",
    "    ], \n",
    "    [\n",
    "      52, \n",
    "      0, \n",
    "      0\n",
    "    ], \n",
    "    [\n",
    "      54, \n",
    "      0, \n",
    "      0\n",
    "    ], \n",
    "    [\n",
    "      60, \n",
    "      0, \n",
    "      0\n",
    "    ], \n",
    "    [\n",
    "      71, \n",
    "      0, \n",
    "      0\n",
    "    ], \n",
    "    [\n",
    "      72, \n",
    "      0, \n",
    "      0\n",
    "    ], \n",
    "    [\n",
    "      78, \n",
    "      0, \n",
    "      0\n",
    "    ], \n",
    "    [\n",
    "      89, \n",
    "      0, \n",
    "      0\n",
    "    ], \n",
    "    [\n",
    "      90, \n",
    "      0, \n",
    "      0\n",
    "    ], \n",
    "    [\n",
    "      96, \n",
    "      0, \n",
    "      0\n",
    "    ], \n",
    "    [\n",
    "      107, \n",
    "      0, \n",
    "      0\n",
    "    ], \n",
    "    [\n",
    "      108, \n",
    "      0, \n",
    "      0\n",
    "    ], \n",
    "    [\n",
    "      114, \n",
    "      0, \n",
    "      0\n",
    "    ], \n",
    "    [\n",
    "      125, \n",
    "      0, \n",
    "      0\n",
    "    ], \n",
    "    [\n",
    "      12, \n",
    "      0, \n",
    "      0\n",
    "    ], \n",
    "    [\n",
    "      130, \n",
    "      0, \n",
    "      0\n",
    "    ], \n",
    "    [\n",
    "      132, \n",
    "      0, \n",
    "      0\n",
    "    ], \n",
    "    [\n",
    "      138, \n",
    "      0, \n",
    "      0\n",
    "    ], \n",
    "    [\n",
    "      144, \n",
    "      0, \n",
    "      0\n",
    "    ], \n",
    "    [\n",
    "      150, \n",
    "      0, \n",
    "      0\n",
    "    ], \n",
    "    [\n",
    "      151, \n",
    "      0, \n",
    "      0\n",
    "    ], \n",
    "    [\n",
    "      157, \n",
    "      0, \n",
    "      0\n",
    "    ], \n",
    "    [\n",
    "      165, \n",
    "      0, \n",
    "      0\n",
    "    ]]"
   ]
  },
  {
   "cell_type": "code",
   "execution_count": 16,
   "metadata": {},
   "outputs": [
    {
     "data": {
      "text/plain": [
       "30"
      ]
     },
     "execution_count": 16,
     "metadata": {},
     "output_type": "execute_result"
    }
   ],
   "source": [
    "len(list(set([i[0] for i in a])))"
   ]
  },
  {
   "cell_type": "code",
   "execution_count": 17,
   "metadata": {},
   "outputs": [
    {
     "data": {
      "text/plain": [
       "31"
      ]
     },
     "execution_count": 17,
     "metadata": {},
     "output_type": "execute_result"
    }
   ],
   "source": [
    "len(a)"
   ]
  },
  {
   "cell_type": "code",
   "execution_count": null,
   "metadata": {},
   "outputs": [],
   "source": []
  }
 ],
 "metadata": {
  "kernelspec": {
   "display_name": "Python 3.6.9 64-bit",
   "language": "python",
   "name": "python3"
  },
  "language_info": {
   "codemirror_mode": {
    "name": "ipython",
    "version": 3
   },
   "file_extension": ".py",
   "mimetype": "text/x-python",
   "name": "python",
   "nbconvert_exporter": "python",
   "pygments_lexer": "ipython3",
   "version": "3.6.9"
  },
  "orig_nbformat": 4,
  "vscode": {
   "interpreter": {
    "hash": "31f2aee4e71d21fbe5cf8b01ff0e069b9275f58929596ceb00d14d90e3e16cd6"
   }
  }
 },
 "nbformat": 4,
 "nbformat_minor": 2
}
